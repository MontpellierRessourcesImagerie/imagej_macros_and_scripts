{
 "cells": [
  {
   "cell_type": "markdown",
   "id": "3cdb60f5-54d8-4918-a79d-6d7cd83b5ff0",
   "metadata": {},
   "source": [
    "Check the available GPU."
   ]
  },
  {
   "cell_type": "code",
   "execution_count": null,
   "id": "c8ef0737-4d93-4192-9e09-5fedd912958d",
   "metadata": {
    "scrolled": true
   },
   "outputs": [],
   "source": [
    "import tensorflow as tf\n",
    "from tensorflow.python.client import device_lib\n",
    "tf.config.list_physical_devices('GPU')\n",
    "print(device_lib.list_local_devices())"
   ]
  },
  {
   "cell_type": "markdown",
   "id": "823f392e-8ffa-4eab-9583-6dae534ad328",
   "metadata": {},
   "source": [
    "Show the patches of one image."
   ]
  },
  {
   "cell_type": "markdown",
   "id": "65e7d9a2-fbe5-47d0-84a1-f5366aa941d0",
   "metadata": {},
   "source": [
    "Set the folders conatining the input images and the masks"
   ]
  },
  {
   "cell_type": "code",
   "execution_count": null,
   "id": "1f72240e-c42a-4a54-81d7-5c3eafd59002",
   "metadata": {},
   "outputs": [],
   "source": [
    "input_folder = '/media/baecker/6b38a953-6650-4da5-94d9-57bd718df733/2025/in/2007_tree_rings/input_images/input/'\n",
    "masks_folder = '/media/baecker/6b38a953-6650-4da5-94d9-57bd718df733/2025/in/2007_tree_rings/input_images/masks/'"
   ]
  },
  {
   "cell_type": "code",
   "execution_count": null,
   "id": "4b8bafb6-63be-4fb3-a598-0cd37b7eb509",
   "metadata": {},
   "outputs": [],
   "source": [
    "import tensorflow_io as tfio\n",
    "import matplotlib.pyplot as plt\n",
    "import cv2\n",
    "\n",
    "image_file = '/media/baecker/6b38a953-6650-4da5-94d9-57bd718df733/2025/in/2007_tree_rings/input_images/T 5 t_8µm_x50.tif'\n",
    "\n",
    "def parse_with_opencv(image_path):\n",
    "    return cv2.imread(image_path.decode('UTF-8'))\n",
    "\n",
    "img_path = [image_file]\n",
    "\n",
    "ds = tf.data.Dataset.from_tensor_slices(img_path).map(\n",
    "    lambda x: tf.numpy_function(parse_with_opencv, [x], Tout=tf.uint8)\n",
    "\n",
    ") \n",
    "\n",
    "\n",
    "\n",
    "ksize_rows = 256\n",
    "ksize_cols = 256\n",
    "strides_rows = 196\n",
    "strides_cols = 196\n",
    "\n",
    "\n",
    "image = ds # tfio.experimental.image.decode_tiff(image_data)\n",
    "\n",
    "print(image)\n",
    "# The size of sliding window\n",
    "ksizes = [1, ksize_rows, ksize_cols, 1] \n",
    "\n",
    "# How far the centers of 2 consecutive patches are in the image\n",
    "strides = [1, strides_rows, strides_cols, 1]\n",
    "\n",
    "# The document is unclear. However, an intuitive example posted on StackOverflow illustrate its behaviour clearly. \n",
    "# http://stackoverflow.com/questions/40731433/understanding-tf-extract-image-patches-for-extracting-patches-from-an-image\n",
    "rates = [1, 1, 1, 1] # sample pixel consecutively\n",
    "\n",
    "# padding algorithm to used\n",
    "padding='SAME' # or 'SAME'\n",
    "\n",
    "# image = tf.expand_dims(image, 0)\n",
    "image_patches = tf.image.extract_patches(images=list(ds), sizes=ksizes, strides=strides, rates=rates, padding=padding)\n",
    "\n",
    "# print image shape of image patches\n",
    "print(image_patches.shape)\n",
    "\n",
    "# image_patches is 4 dimension array, you can use tf.squeeze to squeeze it, e.g.\n",
    "# image_patches = tf.squeeze(image_patches)\n",
    "columns = image_patches.shape[1]\n",
    "rows = image_patches.shape[2]\n",
    "\n",
    "print(columns, rows)\n",
    "# retrieve the 1st patches\n",
    "fig = plt.figure(figsize=(25, 25)) \n",
    "fig.tight_layout()\n",
    "i = 1\n",
    "for col in range(columns):\n",
    "    for row in range(rows):\n",
    "        patch = image_patches[0,col,row,]\n",
    "        patch = tf.reshape(patch, [ksize_rows, ksize_cols, 3])        \n",
    "        fig.add_subplot(columns, rows, i) \n",
    "        plt.axis('off') \n",
    "        plt.imshow(patch)\n",
    "        i = i + 1\n",
    "# visualize image\n",
    "\n",
    "plt.show()\n",
    "\n"
   ]
  },
  {
   "cell_type": "markdown",
   "id": "c4e0f9dd-a246-4196-abbc-34965823abab",
   "metadata": {},
   "source": [
    "Export all patches from all images in a folder and the patches of the corresponding masks and filter out patches and masks for which the mask is empty."
   ]
  },
  {
   "cell_type": "code",
   "execution_count": null,
   "id": "440adf71-5812-4af2-a0cc-9ad8eb856dcd",
   "metadata": {},
   "outputs": [],
   "source": [
    "import tensorflow_io as tfio\n",
    "import matplotlib.pyplot as plt\n",
    "import cv2\n",
    "import os\n",
    "\n",
    "def main():\n",
    "    exportPatches(input_folder)\n",
    "    exportPatches(masks_folder)\n",
    "    filterEmptyPatches(input_folder, masks_folder)\n",
    "\n",
    "def parse_with_opencv(image_path):\n",
    "    return cv2.imread(image_path.decode('UTF-8'))\n",
    "\n",
    "def exportPatches(folder):\n",
    "    out_folder = os.path.join(folder, \"patches\")\n",
    "    os.makedirs(out_folder, exist_ok=True)\n",
    "    files = os.listdir(folder)\n",
    "    paths = [os.path.join(folder, file) for file in files if file.endswith(\".tif\") or file.endswith(\".jpg\")]\n",
    "    ksize_rows = 256\n",
    "    ksize_cols = 256\n",
    "    strides_rows = 196\n",
    "    strides_cols = 196\n",
    "    # The size of sliding window\n",
    "    ksizes = [1, ksize_rows, ksize_cols, 1] \n",
    "    # How far the centers of 2 consecutive patches are in the image\n",
    "    strides = [1, strides_rows, strides_cols, 1]\n",
    "    # The document is unclear. However, an intuitive example posted on StackOverflow illustrate its behaviour clearly. \n",
    "    # http://stackoverflow.com/questions/40731433/understanding-tf-extract-image-patches-for-extracting-patches-from-an-image\n",
    "    rates = [1, 1, 1, 1] # sample pixel consecutively\n",
    "    # padding algorithm to used\n",
    "    padding='SAME' # or 'SAME'\n",
    "\n",
    "    imageNumber = 1\n",
    "    for img_path in paths:\n",
    "        ds = tf.data.Dataset.from_tensor_slices([img_path]).map(\n",
    "            lambda x: tf.numpy_function(parse_with_opencv, [x], Tout=tf.uint8)\n",
    "        ) \n",
    "        image_patches = tf.image.extract_patches(images=list(ds), sizes=ksizes, strides=strides, rates=rates, padding=padding)\n",
    "        columns = image_patches.shape[1]\n",
    "        rows = image_patches.shape[2]    \n",
    "        patchNumber = 1\n",
    "        for col in range(columns):\n",
    "            for row in range(rows):\n",
    "                image_name, ext = os.path.splitext(img_path)\n",
    "                image_name = os.path.basename(image_name)\n",
    "                patch = image_patches[0,col,row,]\n",
    "                patch = tf.reshape(patch, [ksize_rows, ksize_cols, 3])\n",
    "                image_name = image_name + \"_r\" + str(row).zfill(4) + \"_c\" + str(col).zfill(4) + ext\n",
    "                out_path = os.path.join(out_folder, image_name)\n",
    "                print(\"\\rsaving image nr.: \" + str(imageNumber) + \" of \" + str(len(paths)) + \", patch nr.: \" + str(patchNumber) + \" of \" + str(columns * rows) + \"     \", end=\"\")\n",
    "                cv2.imwrite(out_path, patch.numpy())               \n",
    "                patchNumber = patchNumber + 1\n",
    "        imageNumber = imageNumber + 1\n",
    "\n",
    "\n",
    "main()"
   ]
  },
  {
   "cell_type": "markdown",
   "id": "640e3a19-84e8-4899-929b-7f284e73cf47",
   "metadata": {},
   "source": [
    "Remove patches with empty masks"
   ]
  },
  {
   "cell_type": "code",
   "execution_count": null,
   "id": "821099ec-63d2-45a4-8a96-6bea9dc6b2d5",
   "metadata": {},
   "outputs": [],
   "source": [
    "def main():\n",
    "    image_patches_folder = os.path.join(input_folder, \"patches\")\n",
    "    mask_patches_folder = os.path.join(masks_folder, \"patches\")\n",
    "    filterEmptyPatches(image_patches_folder, mask_patches_folder)  \n",
    "\n",
    "\n",
    "def filterEmptyPatches(image_patches_folder, mask_patches_folder):\n",
    "    masks = os.listdir(mask_patches_folder)\n",
    "    mask_paths = [os.path.join(mask_patches_folder, file) for file in masks if file.endswith(\".tif\") or file.endswith(\".jpg\")]\n",
    "    file_paths = [os.path.join(image_patches_folder, file) for file in masks if file.endswith(\".tif\") or file.endswith(\".jpg\")]\n",
    "    fileNumber = 1\n",
    "    for mask_path, file_path in zip(mask_paths, file_paths):\n",
    "        print(\"\\rProcessing file \" + str(fileNumber) + \" of \" + str(len(mask_paths)) + \"        \", end=\"\")\n",
    "        mask = cv2.imread(mask_path, 0)\n",
    "        if cv2.countNonZero(mask) == 0:\n",
    "            os.remove(mask_path)\n",
    "            os.remove(file_path)\n",
    "            print(\"\\rDeleting...                                                       \", end=\"\")\n",
    "        fileNumber = fileNumber + 1\n",
    "\n",
    "main()"
   ]
  },
  {
   "cell_type": "markdown",
   "id": "de2c6da7-ba1b-4648-b3bd-ed168050782e",
   "metadata": {},
   "source": [
    "Put 20% of the data aside as the test dataset."
   ]
  },
  {
   "cell_type": "code",
   "execution_count": null,
   "id": "1eb53565-e3e1-46a1-8330-8646b8f06649",
   "metadata": {},
   "outputs": [],
   "source": [
    "import random \n",
    "import numpy as np\n",
    "\n",
    "def main():\n",
    "    image_patches_folder = os.path.join(input_folder, \"patches\")\n",
    "    mask_patches_folder = os.path.join(masks_folder, \"patches\")\n",
    "    masks = os.listdir(mask_patches_folder)\n",
    "    mask_paths = [os.path.join(mask_patches_folder, file) for file in masks if file.endswith(\".tif\") or file.endswith(\".jpg\")]\n",
    "    image_paths = [os.path.join(image_patches_folder, file) for file in masks if file.endswith(\".tif\") or file.endswith(\".jpg\")]\n",
    "    maskOutFolder = os.path.join(masks_folder, \"validation_patches\")\n",
    "    imageOutFolder = os.path.join(input_folder, \"validation_patches\")\n",
    "    os.makedirs(maskOutFolder, exist_ok=True)\n",
    "    os.makedirs(imageOutFolder, exist_ok=True)\n",
    "    N = len(mask_paths)\n",
    "    number = round((N * 20) / 100)\n",
    "    indices = random.sample(range(N), number)\n",
    "    selectedMaskPaths = np.array(mask_paths)[indices]\n",
    "    selectedImagePaths = np.array(image_paths)[indices]\n",
    "    counter = 1\n",
    "    for maskPath, imagePath in zip(selectedMaskPaths, selectedImagePaths):\n",
    "        print(\"\\rProcessing image \" + str(counter) + \" of \" + str(len(selectedMaskPaths)) + \"        \", end=\"\")\n",
    "        maskName = os.path.basename(maskPath)\n",
    "        imageName = os.path.basename(imagePath)\n",
    "        os.rename(maskPath, os.path.join(maskOutFolder, maskName))\n",
    "        os.rename(imagePath, os.path.join(imageOutFolder, imageName))\n",
    "        counter = counter + 1\n",
    "\n",
    "main()"
   ]
  },
  {
   "cell_type": "code",
   "execution_count": null,
   "id": "aea50a10-165f-4c8d-9218-14e612fb0d89",
   "metadata": {},
   "outputs": [],
   "source": []
  }
 ],
 "metadata": {
  "kernelspec": {
   "display_name": "Python 3 (ipykernel)",
   "language": "python",
   "name": "python3"
  },
  "language_info": {
   "codemirror_mode": {
    "name": "ipython",
    "version": 3
   },
   "file_extension": ".py",
   "mimetype": "text/x-python",
   "name": "python",
   "nbconvert_exporter": "python",
   "pygments_lexer": "ipython3",
   "version": "3.10.15"
  }
 },
 "nbformat": 4,
 "nbformat_minor": 5
}
